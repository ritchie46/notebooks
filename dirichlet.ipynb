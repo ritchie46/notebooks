{
 "cells": [
  {
   "cell_type": "code",
   "metadata": {},
   "outputs": [],
   "source": [
    "import numpy as np\n",
    "from scipy import stats\n",
    "import matplotlib.pyplot as plt\n",
    "from mpl_toolkits.mplot3d import Axes3D\n",
    "from itertools import permutations"
   ]
  },
  {
   "cell_type": "markdown",
   "metadata": {},
   "source": [
    "# Dirichlet Distribution and Dirichlet Process\n",
    "\n",
    "## Dirichlet Distribution\n",
    "Both the DD and the DP can be considered distributions of distributions. The DD can be thought of bag of dice made in the dark ages.\n",
    "Those dice would all have different production errors and another probability of throwing a certain value. Each sample of the bag, we get a dice which on its turn represent a distribution of 6 discrete values.\n",
    "\n",
    "## Dirichlet Process\n",
    "With the DD we define op front how many discrete probabilities are sampled from the DD. In the example above, it is 6 discrete probabilites. The Dirichlet Process is method which allows us to take a sample of infinite discrete values. Note that the values still are discrete!\n",
    "\n",
    "The internet describes the DP often with anologies like a Chinese Restaurant Process and a Stick Breaking Process. These analogies explain how one could sample from a DP."
   ]
  },
  {
   "cell_type": "markdown",
   "metadata": {},
   "source": [
    "# Dirichlet distribution\n",
    "The Dirichlet distribution is a probability distribution that returns a vector $\\theta$ containing probabilities. This can be seen as a distribution vector over $n$ values. \n",
    "\n",
    "$ \\sum_{i=1}^{k}{\\theta_i} = 1 $\n",
    "\n",
    "The Dirichlet distribution is thus a distribution of distributions (a probability vector).\n",
    "\n",
    "$ \\theta \\sim Dir(\\alpha)$\n",
    "\n",
    "The probability density function is \n",
    "\n",
    "$f(x) = \\frac{1}{B(\\alpha)}\\prod_{i=1}^{k}{x_i^{\\alpha_i-1}}$\n",
    "\n",
    "where \n",
    "\n",
    "$B(\\alpha) = \\frac{\\prod_{i=1}^{k}{\\Gamma(\\alpha_i)}}\n",
    "{\\Gamma(\\sum_{i=1}^{n}{\\alpha_i})}$\n",
    "\n",
    "$\\alpha = (\\alpha_i,\\dots, \\alpha_k)$\n",
    "\n",
    "$\\alpha_0 = \\sum_{i=1}^{k}{\\alpha_i}$\n",
    "\n",
    "* $\\alpha$ = the concentration parameters of the Dirichlet distribution.\n",
    "* $k$ = the dimension of the probability space of the samples of the distribution.\n",
    "\n",
    "The probability of a certain event $\\theta_i$ is\n",
    "\n",
    "$\\mathbb{E} \\theta_i = \\frac{\\alpha_i}{\\alpha_0}$"
   ]
  },
  {
   "cell_type": "code",
   "metadata": {},
   "outputs": [],
   "source": [
    "for alpha in [(1, 3, 4), (1, 1, 1), (10, 0.2, 0.2), (0.1, 0.1, 0.1)]:\n",
    "    \n",
    "    d = stats.dirichlet(alpha)\n",
    "    theta = d.rvs(100)\n",
    "    fig = plt.figure()\n",
    "   \n",
    "    ax = plt.gca(projection='3d')\n",
    "    plt.title(f'alpha = {alpha}')\n",
    "    ax.scatter(theta[:, 0], theta[:, 1], theta[:, 2])\n",
    "    ax.view_init(azim=30)\n",
    "    plt.show()"
   ]
  },
  {
   "cell_type": "markdown",
   "metadata": {},
   "source": [
    "Other properties of a Dirichlet distribution.\n",
    "\n",
    "$ G \\sim Dir(\\alpha G_0)$ \n",
    "\n",
    "where \n",
    "\n",
    "$\\alpha$ is a scaling factor of a discrete probability distribution $G_0$\n",
    "By scaling $G_0$ we change the variance of the samples drawn from $Dir(\\alpha G_0)$.\n",
    "\n",
    "$\\mathbb{E} G = G_0$"
   ]
  },
  {
   "cell_type": "code",
   "metadata": {},
   "outputs": [],
   "source": [
    "# Set probability distribution G0\n",
    "G0 = np.array([5, 5, 8], dtype=np.float32)\n",
    "\n",
    "# A probability distribution should sum to one.\n",
    "G0 /= G0.sum()\n",
    "\n",
    "print('G0 = ', G0)\n",
    "\n",
    "scale = [.1, 1, 10, 100, 1000]\n",
    "\n",
    "for s in scale:\n",
    "    print('\\nscale:', s)\n",
    "    theta = stats.dirichlet(alpha=s * G0).rvs(10000)\n",
    "    print('elementwise mean: {}'.format(theta.mean(axis=0).round(3)))\n",
    "    print('elementwise sd: {}'.format(theta.std(axis=0).round(3)))"
   ]
  },
  {
   "cell_type": "markdown",
   "metadata": {},
   "source": [
    "# Dirichlet process\n",
    "\n",
    "$H \\sim DP(\\alpha H0) $\n",
    "\n",
    "A sample $H$ (probability distribution) is created from a Dirichlet process by drawing a infinite number of samples $\\theta_k$ from $H_0$:\n",
    "\n",
    "$H = \\sum_{k=1}^{\\infty}{\\pi_k \\cdot \\delta(\\theta_k)}$\n",
    "\n",
    "where\n",
    "* $\\pi_k$ are chosen weights that sum to 1.\n",
    "* $\\delta$ is the Dirac delta function (indicator function).\n",
    "* $\\theta_k$ are samples of $H_0$\n",
    "\n",
    "$\\pi_k = \\pi'_k \\cdot \\prod_{i=i}^{k-1}{1 - \\pi'_i}$\n",
    "\n",
    "$where \\pi' \\sim Beta(1, \\alpha)$ \n",
    "\n",
    "$H$ is a discrete distribution that takes the value $\\theta_k$ with probability $\\pi_k$."
   ]
  },
  {
   "cell_type": "code",
   "metadata": {},
   "outputs": [],
   "source": [
    "def dirichlet_process(h_0, alpha, n):\n",
    "    \"\"\"\n",
    "    Truncated dirichlet process.\n",
    "    :param h_0: (scipy distribution)\n",
    "    :param alpha: (flt)\n",
    "    :param n: (int) Truncate value.\n",
    "    \"\"\"\n",
    "    pi = stats.beta(1, alpha).rvs(size=n)\n",
    "    pi[1:] = pi[1:] * (1 - pi[:-1]).cumprod()\n",
    "    theta = h_0(size=n)\n",
    "    i = np.argmin(np.abs(np.cumsum(pi) - 1))\n",
    "    return pi[:i], theta[:i]\n",
    "    \n",
    "    \n",
    "def plot_normal_dp_approximation(alpha):\n",
    "    \n",
    "    pis, thetas = dirichlet_process(stats.norm.rvs, alpha, 5000)\n",
    "    x = np.linspace(-4, 4, 100)\n",
    "    \n",
    "    plt.figure(figsize=(14, 4))\n",
    "    plt.title('Dirichlet Process Sample with N(0,1)')\n",
    "    plt.suptitle('alpha = {}'.format(alpha))\n",
    "    plt.subplot(121)\n",
    "    plt.vlines(thetas, 0, pis)\n",
    "    plt.plot(x, stats.norm.pdf(x))\n",
    "    \n",
    "    plt.subplot(122)\n",
    "    pis = pis * (stats.norm.pdf(0) / pis.max())\n",
    "    plt.vlines(thetas, 0, pis)\n",
    "    plt.ylim(0, 1)\n",
    "    plt.plot(x, stats.norm.pdf(x))\n",
    "\n",
    "\n",
    "for alpha in [.1, 1, 10, 1000]:\n",
    "    plot_normal_dp_approximation(alpha)\n",
    "        "
   ]
  }
 ],
 "metadata": {
  "git": {
   "suppress_outputs": true
  },
  "kernelspec": {
   "display_name": "Python 3",
   "language": "python",
   "name": "python3"
  },
  "language_info": {
   "codemirror_mode": {
    "name": "ipython",
    "version": 3
   },
   "file_extension": ".py",
   "mimetype": "text/x-python",
   "name": "python",
   "nbconvert_exporter": "python",
   "pygments_lexer": "ipython3",
   "version": "3.6.5"
  }
 },
 "nbformat": 4,
 "nbformat_minor": 2
}